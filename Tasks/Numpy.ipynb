{
 "cells": [
  {
   "cell_type": "markdown",
   "metadata": {},
   "source": [
    "### Numpy basics"
   ]
  },
  {
   "cell_type": "code",
   "execution_count": 1,
   "metadata": {},
   "outputs": [],
   "source": [
    "import numpy as np"
   ]
  },
  {
   "cell_type": "markdown",
   "metadata": {},
   "source": [
    "1\\. Find the row, column and overall means for the following matrix:\n",
    "\n",
    "```python\n",
    "m = np.arange(12).reshape((3,4))\n",
    "```"
   ]
  },
  {
   "cell_type": "code",
   "execution_count": 2,
   "metadata": {},
   "outputs": [],
   "source": [
    "m = np.arange(12).reshape((3,4))\n",
    "row_mean = m.mean(axis=1)\n",
    "column_mean = m.mean(axis=0)\n",
    "mean = m.mean()"
   ]
  },
  {
   "cell_type": "code",
   "execution_count": 3,
   "metadata": {},
   "outputs": [
    {
     "name": "stdout",
     "output_type": "stream",
     "text": [
      "[[ 0  1  2  3]\n",
      " [ 4  5  6  7]\n",
      " [ 8  9 10 11]]\n",
      "[1.5 5.5 9.5]\n",
      "[4. 5. 6. 7.]\n",
      "5.5\n"
     ]
    }
   ],
   "source": [
    "print(m)\n",
    "print(row_mean)\n",
    "print(column_mean)\n",
    "print(mean)"
   ]
  },
  {
   "cell_type": "markdown",
   "metadata": {},
   "source": [
    "2\\. Find the outer product of the following two vecotrs\n",
    "\n",
    "```python\n",
    "u = np.array([1,3,5,7])\n",
    "v = np.array([2,4,6,8])\n",
    "```\n",
    "\n",
    "Do this in the following ways:\n",
    "\n",
    "   * Using the function outer in numpy\n",
    "   * Using a nested for loop or list comprehension\n",
    "   * Using numpy broadcasting operatoins\n"
   ]
  },
  {
   "cell_type": "code",
   "execution_count": 4,
   "metadata": {},
   "outputs": [],
   "source": [
    "u = np.array([1,3,5,7])\n",
    "v = np.array([2,4,6,8])\n",
    "\n",
    "#1)\n",
    "outer = np.outer(u,v)\n",
    "\n",
    "#2)\n",
    "outer2 = np.zeros((4,4))\n",
    "for i in range(len(u)):\n",
    "    for j in range(len(v)):\n",
    "        outer2[i,j] = u[i]*v[j]\n",
    "\n",
    "#3)\n",
    "u_matrix = np.tile(u, (4,1)).T\n",
    "outer3 = u_matrix*v"
   ]
  },
  {
   "cell_type": "markdown",
   "metadata": {},
   "source": [
    "3\\. Create a 10 by 6 matrix of random uniform numbers. Set all rows with any entry less than 0.1 to be zero\n",
    "\n",
    "Hint: Use the following numpy functions - np.random.random, np.any as well as Boolean indexing and the axis argument."
   ]
  },
  {
   "cell_type": "code",
   "execution_count": 5,
   "metadata": {},
   "outputs": [],
   "source": [
    "import numpy.random as npr"
   ]
  },
  {
   "cell_type": "code",
   "execution_count": 6,
   "metadata": {},
   "outputs": [
    {
     "name": "stdout",
     "output_type": "stream",
     "text": [
      "[[0.1980224  0.21674447 0.99610306 0.48833743 0.25959023 0.10941997]\n",
      " [0.99146851 0.73801194 0.50952983 0.98301735 0.00500745 0.91317877]\n",
      " [0.00712071 0.14222507 0.90306995 0.29138248 0.51151534 0.07492459]\n",
      " [0.2134917  0.22258447 0.74054329 0.16444913 0.08583719 0.24480596]\n",
      " [0.51190883 0.99818593 0.69030105 0.25373333 0.76890849 0.41335264]\n",
      " [0.6475969  0.88720396 0.51554366 0.17035096 0.27705683 0.54283196]\n",
      " [0.97797444 0.72683312 0.73259723 0.58010822 0.82922991 0.94032063]\n",
      " [0.86738742 0.45284485 0.33481919 0.17552333 0.36933883 0.0901394 ]\n",
      " [0.75991066 0.88270485 0.20859772 0.87186365 0.47054695 0.60052485]\n",
      " [0.00897667 0.04103919 0.07737825 0.82205095 0.21689417 0.4516726 ]]\n",
      "\n",
      "[[0.1980224  0.21674447 0.99610306 0.48833743 0.25959023 0.10941997]\n",
      " [0.         0.         0.         0.         0.         0.        ]\n",
      " [0.         0.         0.         0.         0.         0.        ]\n",
      " [0.         0.         0.         0.         0.         0.        ]\n",
      " [0.51190883 0.99818593 0.69030105 0.25373333 0.76890849 0.41335264]\n",
      " [0.6475969  0.88720396 0.51554366 0.17035096 0.27705683 0.54283196]\n",
      " [0.97797444 0.72683312 0.73259723 0.58010822 0.82922991 0.94032063]\n",
      " [0.         0.         0.         0.         0.         0.        ]\n",
      " [0.75991066 0.88270485 0.20859772 0.87186365 0.47054695 0.60052485]\n",
      " [0.         0.         0.         0.         0.         0.        ]]\n"
     ]
    }
   ],
   "source": [
    "M = npr.random((10,6))\n",
    "print(M)\n",
    "print()\n",
    "row_to_set = np.any(M<0.1, axis = 1)\n",
    "M[row_to_set, :] = 0\n",
    "print(M)"
   ]
  },
  {
   "cell_type": "markdown",
   "metadata": {},
   "source": [
    "4\\. Use np.linspace to create an array of 100 numbers between 0 and 2π (includsive).\n",
    "\n",
    "  * Extract every 10th element using slice notation\n",
    "  * Reverse the array using slice notation\n",
    "  * Extract elements where the absolute difference between the sine and cosine functions evaluated at that element is less than 0.1\n",
    "  * Make a plot showing the sin and cos functions and indicate where they are close"
   ]
  },
  {
   "cell_type": "code",
   "execution_count": 7,
   "metadata": {},
   "outputs": [],
   "source": [
    "array = np.linspace(0,2*np.pi,100)\n",
    "\n",
    "extraction_10 = array[::10]\n",
    "\n",
    "reverse_array = array[::-1]\n",
    "\n",
    "close_array = array[np.abs(np.sin(array)-np.cos(array))<0.1]"
   ]
  },
  {
   "cell_type": "code",
   "execution_count": 8,
   "metadata": {},
   "outputs": [],
   "source": [
    "import matplotlib.pyplot as plt"
   ]
  },
  {
   "cell_type": "code",
   "execution_count": 9,
   "metadata": {},
   "outputs": [
    {
     "data": {
      "text/plain": [
       "[<matplotlib.lines.Line2D at 0x7f4bc09fb760>]"
      ]
     },
     "execution_count": 9,
     "metadata": {},
     "output_type": "execute_result"
    },
    {
     "data": {
      "image/png": "[encoded data removed]",
      "text/plain": [
       "<Figure size 432x288 with 1 Axes>"
      ]
     },
     "metadata": {
      "needs_background": "light"
     },
     "output_type": "display_data"
    }
   ],
   "source": [
    "plt.plot(array, np.sin(array))\n",
    "plt.plot(array, np.cos(array))\n",
    "plt.plot(close_array, np.cos(close_array), '.', color = 'red')\n",
    "plt.plot(close_array, np.sin(close_array), '.', color = 'red')"
   ]
  },
  {
   "cell_type": "markdown",
   "metadata": {},
   "source": [
    "5\\. Create a matrix that shows the 10 by 10 multiplication table.\n",
    "\n",
    " * Find the trace of the matrix\n",
    " * Extract the anto-diagonal (this should be ```array([10, 18, 24, 28, 30, 30, 28, 24, 18, 10])```)\n",
    " * Extract the diagnoal offset by 1 upwards (this should be ```array([ 2,  6, 12, 20, 30, 42, 56, 72, 90])```)"
   ]
  },
  {
   "cell_type": "code",
   "execution_count": 10,
   "metadata": {},
   "outputs": [],
   "source": [
    "num = np.arange(1,11)\n",
    "num_matrix = np.tile(num, (10, 1))\n",
    "multiplication_table = num_matrix.T*num"
   ]
  },
  {
   "cell_type": "code",
   "execution_count": 11,
   "metadata": {},
   "outputs": [
    {
     "data": {
      "text/plain": [
       "array([ 2,  6, 12, 20, 30, 42, 56, 72, 90])"
      ]
     },
     "execution_count": 11,
     "metadata": {},
     "output_type": "execute_result"
    }
   ],
   "source": [
    "#1)\n",
    "np.trace(multiplication_table)\n",
    "#2)\n",
    "multiplication_table[np.arange(10), np.arange(9,-1,-1)]\n",
    "#3)\n",
    "multiplication_table[np.arange(0,9), np.arange(1,10)]"
   ]
  },
  {
   "cell_type": "markdown",
   "metadata": {},
   "source": [
    "6\\. Use broadcasting to create a grid of distances\n",
    "\n",
    "Route 66 crosses the following cities in the US: Chicago, Springfield, Saint-Louis, Tulsa, Oklahoma City, Amarillo, Santa Fe, Albuquerque, Flagstaff, Los Angeles\n",
    "The corresponding positions in miles are: 0, 198, 303, 736, 871, 1175, 1475, 1544, 1913, 2448\n",
    "\n",
    "  * Construct a 2D grid of distances among each city along Route 66\n",
    "  * Convert that in km (those savages...)"
   ]
  },
  {
   "cell_type": "code",
   "execution_count": 12,
   "metadata": {},
   "outputs": [],
   "source": [
    "riferiment = np.array([0, 198, 303, 736, 871, 1175, 1475, 1544, 1913, 2448])\n",
    "riferiment_matrix = np.tile(riferiment, (len(riferiment), 1))\n",
    "distances = riferiment - riferiment_matrix.T\n",
    "\n",
    "distances_km = distances*1.609"
   ]
  },
  {
   "cell_type": "markdown",
   "metadata": {},
   "source": [
    "7\\. Prime numbers sieve: compute the prime numbers in the 0-N (N=99 to start with) range with a sieve (mask).\n",
    "  * Constract a shape (100,) boolean array, the mask\n",
    "  * Identify the multiples of each number starting from 2 and set accordingly the corresponding mask element\n",
    "  * Apply the mask to obtain an array of ordered prime numbers\n",
    "  * Check the performances (timeit); how does it scale with N?\n",
    "  * Implement the optimization suggested in the [sieve of Eratosthenes](https://en.wikipedia.org/wiki/Sieve_of_Eratosthenes)"
   ]
  },
  {
   "cell_type": "code",
   "execution_count": 13,
   "metadata": {},
   "outputs": [],
   "source": [
    "def prime_numbers_sieve(N):\n",
    "    \"\"\"\n",
    "    It returns the prime numbers in the interval [1,N] computing a mask with boolean array \n",
    "    with True if the corresponding number is prime and otherwise False.\n",
    "    \"\"\"\n",
    "    num = np.arange(1,N+1)\n",
    "    bool_array = np.ones((N,), dtype = bool)\n",
    "    for i in range(2,N):\n",
    "        multiple = i\n",
    "        while multiple+i <= N:\n",
    "            multiple += i\n",
    "            bool_array[multiple-1] = False\n",
    "    return num[bool_array]"
   ]
  },
  {
   "cell_type": "code",
   "execution_count": 14,
   "metadata": {},
   "outputs": [
    {
     "name": "stdout",
     "output_type": "stream",
     "text": [
      "[ 1  2  3  5  7 11 13 17 19 23 29 31 37 41 43 47 53 59 61 67 71 73 79 83\n",
      " 89 97]\n"
     ]
    }
   ],
   "source": [
    "N = 100\n",
    "print(prime_numbers_sieve(N))"
   ]
  },
  {
   "cell_type": "code",
   "execution_count": 15,
   "metadata": {},
   "outputs": [
    {
     "name": "stdout",
     "output_type": "stream",
     "text": [
      "4.33 µs ± 23.7 ns per loop (mean ± std. dev. of 7 runs, 100000 loops each)\n",
      "44.4 µs ± 14.2 µs per loop (mean ± std. dev. of 7 runs, 10000 loops each)\n",
      "794 µs ± 31.2 µs per loop (mean ± std. dev. of 7 runs, 1000 loops each)\n",
      "11.3 ms ± 280 µs per loop (mean ± std. dev. of 7 runs, 100 loops each)\n",
      "151 ms ± 6.39 ms per loop (mean ± std. dev. of 7 runs, 10 loops each)\n"
     ]
    }
   ],
   "source": [
    "# the execution time scale linearly with N:\n",
    "for n in [10,100,1000,10000,100000]:\n",
    "    %timeit prime_numbers_sieve(n)"
   ]
  },
  {
   "cell_type": "code",
   "execution_count": 16,
   "metadata": {},
   "outputs": [],
   "source": [
    "#Eratosthenes\n",
    "def prime_numbers_Er(N):\n",
    "    \"\"\"\n",
    "    It returns the prime numbers in the interval [1,N] computing a mask with boolean array \n",
    "    with True if the corresponding number is prime and otherwise False.\n",
    "    \"\"\"\n",
    "    num = np.arange(1,N+1)\n",
    "    bool_array = np.ones((N,), dtype = bool)\n",
    "    for i in range(2,N):\n",
    "        if bool_array[i-1]:\n",
    "            multiple = i\n",
    "            while multiple+i <= N:\n",
    "                multiple += i\n",
    "                bool_array[multiple-1] = False\n",
    "    return num[bool_array]"
   ]
  },
  {
   "cell_type": "code",
   "execution_count": 17,
   "metadata": {},
   "outputs": [
    {
     "name": "stdout",
     "output_type": "stream",
     "text": [
      "[ 1  2  3  5  7 11 13 17 19 23 29 31 37 41 43 47 53 59 61 67 71 73 79 83\n",
      " 89 97]\n"
     ]
    }
   ],
   "source": [
    "print(prime_numbers_Er(N))"
   ]
  },
  {
   "cell_type": "code",
   "execution_count": 18,
   "metadata": {},
   "outputs": [
    {
     "name": "stdout",
     "output_type": "stream",
     "text": [
      "4.78 µs ± 161 ns per loop (mean ± std. dev. of 7 runs, 100000 loops each)\n",
      "27.4 µs ± 503 ns per loop (mean ± std. dev. of 7 runs, 10000 loops each)\n",
      "354 µs ± 3.21 µs per loop (mean ± std. dev. of 7 runs, 1000 loops each)\n",
      "4.25 ms ± 59.6 µs per loop (mean ± std. dev. of 7 runs, 100 loops each)\n",
      "46 ms ± 469 µs per loop (mean ± std. dev. of 7 runs, 10 loops each)\n"
     ]
    }
   ],
   "source": [
    "#execution time scale as N/2\n",
    "for n in [10,100,1000,10000,100000]:\n",
    "    %timeit prime_numbers_Er(n)"
   ]
  },
  {
   "cell_type": "markdown",
   "metadata": {},
   "source": [
    "**N.B. the following exercises are meant to be solved only if you are familiar with the numpy random library. If not you can skip them (postponed for one of the next exercise sessions)**\n"
   ]
  },
  {
   "cell_type": "markdown",
   "metadata": {},
   "source": [
    "8\\. Diffusion using random walk\n",
    "\n",
    "Consider a simple random walk process: at each step in time, a walker jumps right or left (+1 or -1) with equal probability. The goal is to find the typical distance from the origin of a random walker after a given amount of time. \n",
    "To do that, let's simulate many walkers and create a 2D array with each walker as a raw and the actual time evolution as columns\n",
    "\n",
    "  * Take 1000 walkers and let them walk for 200 steps\n",
    "  * Use randint to create a 2D array of size walkers x steps with values -1 or 1\n",
    "  * Build the actual walking distances for each walker (i.e. another 2D array \"summing on each raw\")\n",
    "  * Take the square of that 2D array (elementwise)\n",
    "  * Compute the mean of the squared distances at each step (i.e. the mean along the columns)\n",
    "  * Plot the average distances (sqrt(distance\\*\\*2)) as a function of time (step)\n",
    "  \n",
    "Did you get what you expected?"
   ]
  },
  {
   "cell_type": "code",
   "execution_count": 19,
   "metadata": {},
   "outputs": [
    {
     "data": {
      "text/plain": [
       "[<matplotlib.lines.Line2D at 0x7f4bc046a040>]"
      ]
     },
     "execution_count": 19,
     "metadata": {},
     "output_type": "execute_result"
    },
    {
     "data": {
      "image/png": "[encoded data removed]",
      "text/plain": [
       "<Figure size 432x288 with 1 Axes>"
      ]
     },
     "metadata": {
      "needs_background": "light"
     },
     "output_type": "display_data"
    }
   ],
   "source": [
    "num_w = 1000\n",
    "num_st = 200\n",
    "\n",
    "steps_matrix = np.random.randint(0,2, (num_w, num_st))*2-1\n",
    "positions_matrix = np.cumsum(steps_matrix, axis=1)                     #cumulative sum on raw\n",
    "squared_positions_matrix = positions_matrix**2\n",
    "mean_squared_positions_matrix = squared_positions_matrix.mean(axis=0)\n",
    "plt.plot(np.arange(1, num_st+1), np.sqrt(mean_squared_positions_matrix))"
   ]
  },
  {
   "cell_type": "code",
   "execution_count": 20,
   "metadata": {},
   "outputs": [
    {
     "data": {
      "text/plain": [
       "[<matplotlib.lines.Line2D at 0x7f4bc0442cd0>]"
      ]
     },
     "execution_count": 20,
     "metadata": {},
     "output_type": "execute_result"
    },
    {
     "data": {
      "image/png": "[encoded data removed]",
      "text/plain": [
       "<Figure size 432x288 with 1 Axes>"
      ]
     },
     "metadata": {
      "needs_background": "light"
     },
     "output_type": "display_data"
    }
   ],
   "source": [
    "plt.plot(np.arange(1,num_st+1),positions_matrix.mean(axis=0))"
   ]
  },
  {
   "cell_type": "code",
   "execution_count": 21,
   "metadata": {},
   "outputs": [],
   "source": [
    "#as it is expected, the random walkers position distribution is a gaussian centered in 0 (initial position)\n",
    "#with variance Dt (in this case the number of steps)."
   ]
  },
  {
   "cell_type": "markdown",
   "metadata": {},
   "source": [
    "9\\. Analyze a data file \n",
    "  * Download the population of hares, lynxes and carrots at the beginning of the last century.\n",
    "    ```python\n",
    "    ! wget https://www.dropbox.com/s/3vigxoqayo389uc/populations.txt\n",
    "    ```\n",
    "\n",
    "  * Check the content by looking within the file\n",
    "  * Load the data (use an appropriate numpy method) into a 2D array\n",
    "  * Create arrays out of the columns, the arrays being (in order): *year*, *hares*, *lynxes*, *carrots* \n",
    "  * Plot the 3 populations over the years\n",
    "  * Compute the main statistical properties of the dataset (mean, std, correlations, etc.)\n",
    "  * Which species has the highest population each year?\n",
    "\n",
    "Do you feel there is some evident correlation here? [Studies](https://www.enr.gov.nt.ca/en/services/lynx/lynx-snowshoe-hare-cycle) tend to believe so."
   ]
  },
  {
   "cell_type": "code",
   "execution_count": 24,
   "metadata": {},
   "outputs": [
    {
     "name": "stdout",
     "output_type": "stream",
     "text": [
      "--2023-03-28 22:41:56--  https://www.dropbox.com/s/3vigxoqayo389uc/populations.txt\n",
      "Risoluzione di www.dropbox.com (www.dropbox.com)... 162.125.68.18, 2620:100:6025:18::a27d:4512\n",
      "Connessione a www.dropbox.com (www.dropbox.com)|162.125.68.18|:443... connesso.\n",
      "Richiesta HTTP inviata, in attesa di risposta... 302 Found\n",
      "Posizione: /s/raw/3vigxoqayo389uc/populations.txt [segue]\n",
      "--2023-03-28 22:41:58--  https://www.dropbox.com/s/raw/3vigxoqayo389uc/populations.txt\n",
      "Riutilizzo della connessione esistente a www.dropbox.com:443.\n",
      "Richiesta HTTP inviata, in attesa di risposta... 302 Found\n",
      "Posizione: https://uc98795fb75e0b4f1297e0040d07.dl.dropboxusercontent.com/cd/0/inline/B5FvyFMyF53EkajpQE3iZosnD30OqVVZ7P6mDKZHuPqvpaS65Y2fKlqz9_fpABTs5dgmHqfJyg8W5VL6dMA-GdhVi-x7Kz7xH-_O_YQP24BPxsY9PexxeT0mlWSUSQGEDP9qyG3lo2bIbsG7Wg2fTGS97dhcDdnW1yqvkPFUx4R21w/file# [segue]\n",
      "--2023-03-28 22:41:59--  https://uc98795fb75e0b4f1297e0040d07.dl.dropboxusercontent.com/cd/0/inline/B5FvyFMyF53EkajpQE3iZosnD30OqVVZ7P6mDKZHuPqvpaS65Y2fKlqz9_fpABTs5dgmHqfJyg8W5VL6dMA-GdhVi-x7Kz7xH-_O_YQP24BPxsY9PexxeT0mlWSUSQGEDP9qyG3lo2bIbsG7Wg2fTGS97dhcDdnW1yqvkPFUx4R21w/file\n",
      "Risoluzione di uc98795fb75e0b4f1297e0040d07.dl.dropboxusercontent.com (uc98795fb75e0b4f1297e0040d07.dl.dropboxusercontent.com)... 162.125.69.15, 2620:100:6025:15::a27d:450f\n",
      "Connessione a uc98795fb75e0b4f1297e0040d07.dl.dropboxusercontent.com (uc98795fb75e0b4f1297e0040d07.dl.dropboxusercontent.com)|162.125.69.15|:443... connesso.\n",
      "Richiesta HTTP inviata, in attesa di risposta... 200 OK\n",
      "Lunghezza: 525 [text/plain]\n",
      "Salvataggio in: ‘populations.txt’\n",
      "\n",
      "populations.txt     100%[===================>]     525  --.-KB/s    in 0s      \n",
      "\n",
      "2023-03-28 22:41:59 (73,7 MB/s) - ‘populations.txt’ salvato [525/525]\n",
      "\n"
     ]
    }
   ],
   "source": [
    "!wget https://www.dropbox.com/s/3vigxoqayo389uc/populations.txt"
   ]
  },
  {
   "cell_type": "code",
   "execution_count": 25,
   "metadata": {},
   "outputs": [],
   "source": [
    "data = np.loadtxt(\"populations.txt\")\n",
    "\n",
    "year = data[:, 0]\n",
    "hares = data[:, 1]\n",
    "lynxes = data[:, 2]\n",
    "carrots = data[:, 3]"
   ]
  },
  {
   "cell_type": "code",
   "execution_count": 26,
   "metadata": {},
   "outputs": [],
   "source": [
    "max_population_per_year = np.array((year, data[:, 1:].max(axis=1))).T"
   ]
  },
  {
   "cell_type": "code",
   "execution_count": 29,
   "metadata": {},
   "outputs": [
    {
     "data": {
      "text/plain": [
       "[<matplotlib.lines.Line2D at 0x7f4bbe758bb0>]"
      ]
     },
     "execution_count": 29,
     "metadata": {},
     "output_type": "execute_result"
    },
    {
     "data": {
      "image/png": "[encoded data removed]",
      "text/plain": [
       "<Figure size 432x288 with 1 Axes>"
      ]
     },
     "metadata": {
      "needs_background": "light"
     },
     "output_type": "display_data"
    }
   ],
   "source": [
    "plt.plot(year, hares)\n",
    "plt.plot(year, lynxes)\n",
    "plt.plot(year, carrots)\n",
    "plt.plot(year, max_population_per_year[:,1], '.')"
   ]
  },
  {
   "cell_type": "code",
   "execution_count": 28,
   "metadata": {},
   "outputs": [
    {
     "data": {
      "text/html": [
       "<div>\n",
       "<style scoped>\n",
       "    .dataframe tbody tr th:only-of-type {\n",
       "        vertical-align: middle;\n",
       "    }\n",
       "\n",
       "    .dataframe tbody tr th {\n",
       "        vertical-align: top;\n",
       "    }\n",
       "\n",
       "    .dataframe thead th {\n",
       "        text-align: right;\n",
       "    }\n",
       "</style>\n",
       "<table border=\"1\" class=\"dataframe\">\n",
       "  <thead>\n",
       "    <tr style=\"text-align: right;\">\n",
       "      <th></th>\n",
       "      <th>0</th>\n",
       "      <th>1</th>\n",
       "      <th>2</th>\n",
       "      <th>3</th>\n",
       "    </tr>\n",
       "  </thead>\n",
       "  <tbody>\n",
       "    <tr>\n",
       "      <th>count</th>\n",
       "      <td>21.000000</td>\n",
       "      <td>21.000000</td>\n",
       "      <td>21.000000</td>\n",
       "      <td>21.000000</td>\n",
       "    </tr>\n",
       "    <tr>\n",
       "      <th>mean</th>\n",
       "      <td>1910.000000</td>\n",
       "      <td>34080.952381</td>\n",
       "      <td>20166.666667</td>\n",
       "      <td>42400.000000</td>\n",
       "    </tr>\n",
       "    <tr>\n",
       "      <th>std</th>\n",
       "      <td>6.204837</td>\n",
       "      <td>21413.981859</td>\n",
       "      <td>16655.999920</td>\n",
       "      <td>3404.555771</td>\n",
       "    </tr>\n",
       "    <tr>\n",
       "      <th>min</th>\n",
       "      <td>1900.000000</td>\n",
       "      <td>7600.000000</td>\n",
       "      <td>4000.000000</td>\n",
       "      <td>36700.000000</td>\n",
       "    </tr>\n",
       "    <tr>\n",
       "      <th>25%</th>\n",
       "      <td>1905.000000</td>\n",
       "      <td>19500.000000</td>\n",
       "      <td>8600.000000</td>\n",
       "      <td>39800.000000</td>\n",
       "    </tr>\n",
       "    <tr>\n",
       "      <th>50%</th>\n",
       "      <td>1910.000000</td>\n",
       "      <td>25400.000000</td>\n",
       "      <td>12300.000000</td>\n",
       "      <td>41800.000000</td>\n",
       "    </tr>\n",
       "    <tr>\n",
       "      <th>75%</th>\n",
       "      <td>1915.000000</td>\n",
       "      <td>47200.000000</td>\n",
       "      <td>29700.000000</td>\n",
       "      <td>44500.000000</td>\n",
       "    </tr>\n",
       "    <tr>\n",
       "      <th>max</th>\n",
       "      <td>1920.000000</td>\n",
       "      <td>77400.000000</td>\n",
       "      <td>59400.000000</td>\n",
       "      <td>48300.000000</td>\n",
       "    </tr>\n",
       "  </tbody>\n",
       "</table>\n",
       "</div>"
      ],
      "text/plain": [
       "                 0             1             2             3\n",
       "count    21.000000     21.000000     21.000000     21.000000\n",
       "mean   1910.000000  34080.952381  20166.666667  42400.000000\n",
       "std       6.204837  21413.981859  16655.999920   3404.555771\n",
       "min    1900.000000   7600.000000   4000.000000  36700.000000\n",
       "25%    1905.000000  19500.000000   8600.000000  39800.000000\n",
       "50%    1910.000000  25400.000000  12300.000000  41800.000000\n",
       "75%    1915.000000  47200.000000  29700.000000  44500.000000\n",
       "max    1920.000000  77400.000000  59400.000000  48300.000000"
      ]
     },
     "execution_count": 28,
     "metadata": {},
     "output_type": "execute_result"
    }
   ],
   "source": [
    "import pandas as pd\n",
    "\n",
    "df_describe = pd.DataFrame(data)\n",
    "df_describe.describe()"
   ]
  }
 ],
 "metadata": {
  "kernelspec": {
   "display_name": "Python 3",
   "language": "python",
   "name": "python3"
  },
  "language_info": {
   "codemirror_mode": {
    "name": "ipython",
    "version": 3
   },
   "file_extension": ".py",
   "mimetype": "text/x-python",
   "name": "python",
   "nbconvert_exporter": "python",
   "pygments_lexer": "ipython3",
   "version": "3.8.2"
  }
 },
 "nbformat": 4,
 "nbformat_minor": 2
}
